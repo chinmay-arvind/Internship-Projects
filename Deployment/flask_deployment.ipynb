{
 "cells": [
  {
   "cell_type": "code",
   "execution_count": 2,
   "id": "d9874d23",
   "metadata": {
    "pycharm": {
     "name": "#%%\n"
    }
   },
   "outputs": [],
   "source": [
    "# Source code adapted from: https://docs.ray.io/en/latest/serve/tutorials/serve-ml-models.html\n",
    "# Importing necessary libraries\n",
    "import pickle\n",
    "import tensorflow as tf"
   ]
  },
  {
   "cell_type": "code",
   "execution_count": 3,
   "id": "c550ed7f",
   "metadata": {
    "pycharm": {
     "name": "#%%\n"
    }
   },
   "outputs": [
    {
     "name": "stdout",
     "output_type": "stream",
     "text": [
      "Downloading data from https://storage.googleapis.com/tensorflow/tf-keras-datasets/mnist.npz\n",
      "11490434/11490434 [==============================] - 1s 0us/step\n",
      "Epoch 1/20\n"
     ]
    },
    {
     "name": "stderr",
     "output_type": "stream",
     "text": [
      "2023-03-12 15:12:31.292994: I tensorflow/core/platform/cpu_feature_guard.cc:193] This TensorFlow binary is optimized with oneAPI Deep Neural Network Library (oneDNN) to use the following CPU instructions in performance-critical operations:  SSE4.1 SSE4.2 AVX AVX2 FMA\n",
      "To enable them in other operations, rebuild TensorFlow with the appropriate compiler flags.\n"
     ]
    },
    {
     "name": "stdout",
     "output_type": "stream",
     "text": [
      "1875/1875 [==============================] - 3s 2ms/step - loss: 7.3794 - accuracy: 0.0879\n",
      "Epoch 2/20\n",
      "1875/1875 [==============================] - 3s 2ms/step - loss: 7.3725 - accuracy: 0.0951\n",
      "Epoch 3/20\n",
      "1875/1875 [==============================] - 3s 2ms/step - loss: 7.3711 - accuracy: 0.0963\n",
      "Epoch 4/20\n",
      "1875/1875 [==============================] - 3s 2ms/step - loss: 7.3703 - accuracy: 0.0972\n",
      "Epoch 5/20\n",
      "1875/1875 [==============================] - 3s 2ms/step - loss: 7.3699 - accuracy: 0.0994\n",
      "Epoch 6/20\n",
      "1875/1875 [==============================] - 3s 2ms/step - loss: 7.3696 - accuracy: 0.1015\n",
      "Epoch 7/20\n",
      "1875/1875 [==============================] - 3s 2ms/step - loss: 7.3694 - accuracy: 0.1032\n",
      "Epoch 8/20\n",
      "1875/1875 [==============================] - 3s 2ms/step - loss: 7.3692 - accuracy: 0.1041\n",
      "Epoch 9/20\n",
      "1875/1875 [==============================] - 3s 2ms/step - loss: 7.3691 - accuracy: 0.1059\n",
      "Epoch 10/20\n",
      "1875/1875 [==============================] - 3s 2ms/step - loss: 7.3690 - accuracy: 0.1067\n",
      "Epoch 11/20\n",
      "1875/1875 [==============================] - 3s 2ms/step - loss: 7.3689 - accuracy: 0.1067\n",
      "Epoch 12/20\n",
      "1875/1875 [==============================] - 3s 2ms/step - loss: 7.3689 - accuracy: 0.1078\n",
      "Epoch 13/20\n",
      "1875/1875 [==============================] - 3s 2ms/step - loss: 7.3688 - accuracy: 0.1082\n",
      "Epoch 14/20\n",
      "1875/1875 [==============================] - 3s 2ms/step - loss: 7.3687 - accuracy: 0.1083\n",
      "Epoch 15/20\n",
      "1875/1875 [==============================] - 3s 2ms/step - loss: 7.3687 - accuracy: 0.1086\n",
      "Epoch 16/20\n",
      "1875/1875 [==============================] - 3s 2ms/step - loss: 7.3687 - accuracy: 0.1089\n",
      "Epoch 17/20\n",
      "1875/1875 [==============================] - 3s 2ms/step - loss: 7.3686 - accuracy: 0.1087\n",
      "Epoch 18/20\n",
      "1875/1875 [==============================] - 3s 2ms/step - loss: 7.3686 - accuracy: 0.1087\n",
      "Epoch 19/20\n",
      "1875/1875 [==============================] - 3s 2ms/step - loss: 7.3686 - accuracy: 0.1083\n",
      "Epoch 20/20\n",
      "1875/1875 [==============================] - 3s 2ms/step - loss: 7.3686 - accuracy: 0.1076\n",
      "313/313 [==============================] - 0s 1ms/step - loss: 7.3516 - accuracy: 0.1049\n",
      "INFO:tensorflow:Assets written to: ram://d0f597c6-5f19-4733-89d4-c299dbc032f2/assets\n"
     ]
    }
   ],
   "source": [
    "# Load MNIST dataset\n",
    "dataset = tf.keras.datasets.mnist\n",
    "(training_X_data, training_Y_data), (Validation_X_data, Validation_Y_data) = dataset.load_data()\n",
    "\n",
    "# Preprocessing the data by normalizing it to a range between 0 and 1\n",
    "training_X_data = training_X_data / 255.0 \n",
    "Validation_X_data = Validation_X_data / 255.0\n",
    "\n",
    "# Defining the Neural Network's architecture\n",
    "neural_net_model = tf.keras.models.Sequential([\n",
    "  tf.keras.layers.Flatten(input_shape=(28, 28)),\n",
    "  tf.keras.layers.Dense(256, activation='relu'),\n",
    "  tf.keras.layers.Dense(256, activation='relu'),\n",
    "  tf.keras.layers.Dense(5, activation='softmax')\n",
    "])\n",
    "\n",
    "# Compiling the model with the poisson loss and training the model\n",
    "neural_net_model.compile(optimizer='sgd', loss='poisson', metrics=['accuracy'])\n",
    "neural_net_model.fit(training_X_data, training_Y_data, epochs=20)\n",
    "\n",
    "# Running an evaluation and checking how well the model performs on the validation data\n",
    "neural_net_model.evaluate(Validation_X_data, Validation_Y_data)\n",
    "\n",
    "# Saving the model into a pickle file by writing to it\n",
    "with open('mnist_predictive_model.pkl', 'wb') as filename:\n",
    "    pickle.dump(neural_net_model, filename)"
   ]
  }
 ],
 "metadata": {
  "kernelspec": {
   "display_name": "Python 3 (ipykernel)",
   "language": "python",
   "name": "python3"
  },
  "language_info": {
   "codemirror_mode": {
    "name": "ipython",
    "version": 3
   },
   "file_extension": ".py",
   "mimetype": "text/x-python",
   "name": "python",
   "nbconvert_exporter": "python",
   "pygments_lexer": "ipython3",
   "version": "3.9.12"
  }
 },
 "nbformat": 4,
 "nbformat_minor": 5
}
